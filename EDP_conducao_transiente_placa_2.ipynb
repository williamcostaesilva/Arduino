{
  "nbformat": 4,
  "nbformat_minor": 0,
  "metadata": {
    "colab": {
      "name": "EDP-conducao-transiente-placa-2.ipynb",
      "private_outputs": true,
      "provenance": [],
      "collapsed_sections": [],
      "authorship_tag": "ABX9TyNl+CT3D7wJwQbh9AdQZTgA",
      "include_colab_link": true
    },
    "kernelspec": {
      "name": "python3",
      "display_name": "Python 3"
    },
    "language_info": {
      "name": "python"
    }
  },
  "cells": [
    {
      "cell_type": "markdown",
      "metadata": {
        "id": "view-in-github",
        "colab_type": "text"
      },
      "source": [
        "<a href=\"https://colab.research.google.com/github/williamcostaesilva/Arduino/blob/master/EDP_conducao_transiente_placa_2.ipynb\" target=\"_parent\"><img src=\"https://colab.research.google.com/assets/colab-badge.svg\" alt=\"Open In Colab\"/></a>"
      ]
    },
    {
      "cell_type": "code",
      "execution_count": null,
      "metadata": {
        "id": "Z7mIrEJw9x3z"
      },
      "outputs": [],
      "source": [
        "# importando as bibliotecas necessarias\n",
        "import numpy as np\n",
        "#import matplotlib.pyplot as plt\n",
        "import pylab as plt\n",
        "\n",
        "import time\n",
        "inicio = time.time() #tempo de inicio do processamento \n",
        "#do codigo\n",
        "\n",
        "# tamanho do Grid \n",
        "N = 100\n",
        "\n",
        "# condições de contorno/ faces ou paredes\n",
        "t_sup = 100\n",
        "t_dir = 0\n",
        "t_est = 0\n",
        "t_inf = 0\n",
        "\n",
        "# Margem de erro no método iterativo de cálculo \n",
        "erro = 1e-6\n",
        "\n",
        "# criar arrays para guardar o valor da temperatura\n",
        "temp = np.zeros([N+1,N+1],float)\n",
        "temp[0,:] = t_sup\n",
        "t_grid = np.empty([N+1,N+1],float)\n",
        "\n",
        "# Constante Omega - otimizar o tempo de processamento do codigo\n",
        "omega = 0.9\n",
        "\n",
        "\n",
        "delta = 1\n",
        "\n",
        "while delta > erro:\n",
        "    for i in range(N+1):\n",
        "        for j in range(N+1):\n",
        "            if i==0 or i==N or j==0 or j==N:\n",
        "                t_grid[i,j] = temp[i,j] # aplicando as condiçoes de contorno\n",
        "            else:\n",
        "                #t_grid[i,j] = (1/4)*(temp[i+1,j]+temp[i-1,j]+(temp[i,j+1]+temp[i,j-1]))         \n",
        "                 t_grid[i,j] = (1+omega) * (temp[i+1,j]+temp[i-1,j]+temp[i,j+1]+temp[i,j-1])*(1/4) - omega * t_grid[i,j]\n",
        "    # método da relaxação\n",
        "    delta = np.max(abs(temp-t_grid))\n",
        "    \n",
        "    temp,t_grid = t_grid,temp\n",
        "\n",
        "# Tempo de processamento do codigo - com a const. omega\n",
        "fim = time.time() # fim do tempo de processamento do codigo\n",
        "print(fim-inicio)\n",
        "\n",
        "\n",
        "'''\n",
        "    x, y = np.meshgrid(np.arange(0,N+1),np.arange(0,N+1))\n",
        "    plt.contourf(x,y,temp,50,cmap=plt.cm.jet)\n",
        "    plt.colorbar()\n",
        "'''\n",
        "plt.imshow(temp)\n",
        "plt.show()"
      ]
    },
    {
      "cell_type": "code",
      "source": [
        ""
      ],
      "metadata": {
        "id": "pm6NzA48PnqL"
      },
      "execution_count": null,
      "outputs": []
    },
    {
      "cell_type": "markdown",
      "source": [
        "## - \n",
        "\n"
      ],
      "metadata": {
        "id": "2CXhK3lmPpSR"
      }
    },
    {
      "cell_type": "code",
      "source": [
        "# importando as bibliotecas necessarias\n",
        "import numpy as np\n",
        "#import matplotlib.pyplot as plt\n",
        "import pylab as plt\n",
        "\n",
        "import time\n",
        "inicio = time.time() #tempo de inicio do processamento do codigo\n",
        "\n",
        "\n",
        "# tamanho do Grid \n",
        "N = 100\n",
        "\n",
        "\n",
        "# condições de contorno\n",
        "t_sup = 100\n",
        "t_dir = 0\n",
        "t_est = 0\n",
        "t_inf = 0\n",
        "\n",
        "erro = 1e-6\n",
        "\n",
        "# criar arrays para guardar o valor da temperatura\n",
        "temp = np.zeros([N+1,N+1],float)\n",
        "temp[N,:] = t_sup\n",
        "t_grid = np.empty([N+1,N+1],float)\n",
        "\n",
        "# Constante Omega - otimizar o tempo de processamento do codigo\n",
        "omega = 0.9\n",
        "\n",
        "\n",
        "delta = 1\n",
        "\n",
        "while delta > erro:\n",
        "    for i in range(N+1):\n",
        "        for j in range(N+1):\n",
        "            if i==0 or i==N or j==0 or j==N:\n",
        "                t_grid[i,j] = temp[i,j] # aplicando as condiçoes de contorno\n",
        "            else:\n",
        "                #t_grid[i,j] = (1/4)*(temp[i+1,j]+temp[i-1,j]+(temp[i,j+1]+temp[i,j-1]))         \n",
        "                 t_grid[i,j] = (1+omega) * (temp[i+1,j]+temp[i-1,j]+temp[i,j+1]+temp[i,j-1])*(1/4) - omega * t_grid[i,j]\n",
        "    # método da relaxação\n",
        "    delta = np.max(abs(temp-t_grid))\n",
        "    \n",
        "    temp,t_grid = t_grid,temp\n",
        "\n",
        "# Tempo de processamento do codigo - com a const. omega\n",
        "fim = time.time() # fim do tempo de processamento do codigo\n",
        "print(fim-inicio)\n",
        "\n",
        "x, y = np.meshgrid(np.arange(0,N+1),np.arange(0,N+1))\n",
        "plt.contourf(x,y,temp,50,cmap=plt.cm.jet)\n",
        "plt.xlabel(\"distancia\")\n",
        "plt.ylabel(\"Temperatura [ºC]\")\n",
        "plt.colorbar()\n",
        "#plt.imshow(temp)\n",
        "plt.show()"
      ],
      "metadata": {
        "id": "hRPoIcWvGMsE"
      },
      "execution_count": null,
      "outputs": []
    },
    {
      "cell_type": "code",
      "source": [
        ""
      ],
      "metadata": {
        "id": "53UwI_3LL2Do"
      },
      "execution_count": null,
      "outputs": []
    }
  ]
}